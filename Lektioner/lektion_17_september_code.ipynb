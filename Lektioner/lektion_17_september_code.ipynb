{
 "cells": [
  {
   "cell_type": "code",
   "execution_count": 4,
   "metadata": {},
   "outputs": [
    {
     "name": "stdout",
     "output_type": "stream",
     "text": [
      "(np.float64(-0.2679491924311228), np.float64(-0.2679491924311228))\n"
     ]
    }
   ],
   "source": [
    "#Andragrads ekvationer\n",
    "# x**2 + 2x + 1 = 0\n",
    "import numpy as np \n",
    "\n",
    "q_term = [1,4,1]\n",
    "\n",
    "def quadratic_solver(coeff):\n",
    "    a, b, c = coeff\n",
    "    x1 =np.divide(-b + np.sqrt(np.square(b) - 4*a*c), 2*a)\n",
    "    x0 =np.divide(-b + np.sqrt(np.square(b) - 4*a*c), 2*a)\n",
    "    return x0, x1\n",
    "print(quadratic_solver(q_term))"
   ]
  },
  {
   "cell_type": "markdown",
   "metadata": {},
   "source": [
    "$x= \\frac{p}{2} \\pm \\sqrt{\\frac{p}{2}^2- q}$\n",
    "\n",
    "PQ - Formeln"
   ]
  },
  {
   "cell_type": "code",
   "execution_count": null,
   "metadata": {},
   "outputs": [],
   "source": []
  },
  {
   "cell_type": "code",
   "execution_count": null,
   "metadata": {},
   "outputs": [],
   "source": [
    "#Nationella prov matte 3 \n",
    "\n"
   ]
  }
 ],
 "metadata": {
  "kernelspec": {
   "display_name": "Python 3",
   "language": "python",
   "name": "python3"
  },
  "language_info": {
   "codemirror_mode": {
    "name": "ipython",
    "version": 3
   },
   "file_extension": ".py",
   "mimetype": "text/x-python",
   "name": "python",
   "nbconvert_exporter": "python",
   "pygments_lexer": "ipython3",
   "version": "3.12.6"
  }
 },
 "nbformat": 4,
 "nbformat_minor": 2
}
