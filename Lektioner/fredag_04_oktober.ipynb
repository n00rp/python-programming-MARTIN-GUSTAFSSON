{
 "cells": [
  {
   "cell_type": "code",
   "execution_count": null,
   "metadata": {},
   "outputs": [],
   "source": [
    "from abc import abstractmethod, ABC\n",
    "\n",
    "class Shape(ABC):\n",
    "    @abstractmethod\n",
    "    def area(self):\n",
    "        pass\n",
    "\n",
    "class Square(Shape): \n",
    "    def __init__(self, side):\n",
    "        self._side = side\n",
    "\n",
    "    @property\n",
    "    def side(self, value):\n",
    "        return self._side\n",
    "    @property\n",
    "    def area(self):\n",
    "        return self._side**2\n",
    "\n",
    "s =Square(3)\n",
    "Square.side(s)\n",
    "\n",
    "class Rectangle:\n",
    "\n",
    "    def __init__(self, long, short):\n",
    "        self._long = long\n",
    "        self._short = short\n",
    "\n",
    "\n",
    "s = Square(2)\n",
    "r = Rectangle(3, 4)\n",
    "        \n",
    "\n",
    "\n"
   ]
  },
  {
   "cell_type": "code",
   "execution_count": null,
   "metadata": {},
   "outputs": [],
   "source": [
    "\n",
    "class Person:\n",
    "\n",
    "    def __init__(self, name):\n",
    "        self._name = name\n",
    "\n",
    "class Student(Person):\n",
    "    @property\n",
    "    def is_stydying(self):\n",
    "        print(f\"{self._name} is studying\")\n",
    "        return True\n",
    "    \n",
    "class Unemployed(Person):\n",
    "    @property\n",
    "    def is_stydying(self):\n",
    "        print(f\"{self._name} is not studying\")\n",
    "        return False"
   ]
  }
 ],
 "metadata": {
  "kernelspec": {
   "display_name": ".venv",
   "language": "python",
   "name": "python3"
  },
  "language_info": {
   "codemirror_mode": {
    "name": "ipython",
    "version": 3
   },
   "file_extension": ".py",
   "mimetype": "text/x-python",
   "name": "python",
   "nbconvert_exporter": "python",
   "pygments_lexer": "ipython3",
   "version": "3.12.6"
  }
 },
 "nbformat": 4,
 "nbformat_minor": 2
}
