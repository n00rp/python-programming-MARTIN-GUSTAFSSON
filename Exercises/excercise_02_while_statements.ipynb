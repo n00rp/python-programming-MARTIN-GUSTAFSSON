{
 "cells": [
  {
   "cell_type": "code",
   "execution_count": 3,
   "metadata": {},
   "outputs": [
    {
     "name": "stdout",
     "output_type": "stream",
     "text": [
      "-10 -9 -8 -7 -6 -5 -4 -3 -2 -1 0 1 2 3 4 5 6 7 8 9 10 "
     ]
    }
   ],
   "source": [
    "#Övning 1\n",
    "\n",
    "i = -10\n",
    "\n",
    "while i <= 10:\n",
    "    print(i, end= \" \" )\n",
    "    i += 1"
   ]
  },
  {
   "cell_type": "code",
   "execution_count": 2,
   "metadata": {},
   "outputs": [
    {
     "name": "stdout",
     "output_type": "stream",
     "text": [
      "5050\n"
     ]
    }
   ],
   "source": [
    "#Övning 2 A\n",
    "\n",
    "sum = 0 \n",
    "for i in range(1, 101): \n",
    "    sum += i \n",
    "print(sum) \n",
    "\n"
   ]
  },
  {
   "cell_type": "code",
   "execution_count": 14,
   "metadata": {},
   "outputs": [
    {
     "name": "stdout",
     "output_type": "stream",
     "text": [
      "2500\n"
     ]
    }
   ],
   "source": [
    "#Övning 2 B \n",
    "\n",
    "sum = 0\n",
    "for i in range(1, 101, 2):\n",
    "    sum += i\n",
    "print(sum)"
   ]
  },
  {
   "cell_type": "code",
   "execution_count": null,
   "metadata": {},
   "outputs": [],
   "source": [
    "#Övning 3 A\n",
    "\n",
    "import random as rng\n",
    "\n",
    "\n",
    "number = rng.randint(1, 100)\n",
    "player = input(f\"Hello there! And welcome to the game! What is your name?: \")\n",
    "print(f\" Okay {player} lets start the game, Im guessing a number between 1 and 100: \")\n",
    "\n",
    "while True:\n",
    "    guess = int(input(f\"What is your guess: \"))\n",
    "    \n",
    "    if  guess < number:\n",
    "        print(f\"Your guess is to low!\")\n",
    "    elif guess > number:\n",
    "        print(f\"Your guess is to high!\")\n",
    "    else:\n",
    "        break\n",
    "\n",
    "if guess == number:\n",
    "    print(f\"You are magical {player}, good job!\")\n",
    "\n",
    "\n",
    "\n",
    "        \n",
    "\n",
    "\n",
    "\n",
    "\n"
   ]
  },
  {
   "cell_type": "code",
   "execution_count": 89,
   "metadata": {},
   "outputs": [
    {
     "name": "stdout",
     "output_type": "stream",
     "text": [
      "Your guess was low on 51\n",
      "Your guess was low on 76\n",
      "Your guess was low on 89\n",
      "Your guess was low on 95\n",
      "Your guess was low on 98\n",
      "Asus you guessed the correct in 5 tries, the number was: 99\n"
     ]
    }
   ],
   "source": [
    "#Uppgift 3 B\n",
    "import random as rng\n",
    "\n",
    "number = rng.randint(1, 100)\n",
    "\n",
    "guess = None\n",
    "guesses = 0\n",
    "\n",
    "high = 100\n",
    "low = 1\n",
    "\n",
    "while guess != number:\n",
    "    guess = (high + low) // 2\n",
    "\n",
    "    if guess > number:\n",
    "        high = guess - 1\n",
    "        print(f\"Your guess was high on {high}\")\n",
    "    elif guess < number:\n",
    "        low = guess + 1\n",
    "        print(f\"Your guess was low on {low}\")\n",
    "    else:\n",
    "        print(f\"Asus you guessed the correct in {guesses} tries, the number was: {number}\")\n",
    "    guesses += 1\n",
    "\n"
   ]
  },
  {
   "cell_type": "code",
   "execution_count": null,
   "metadata": {},
   "outputs": [],
   "source": [
    "#Övning 4\n",
    "\n",
    "import random as rng\n",
    "user_score = 0\n",
    "\n",
    "while True:\n",
    "    x = rng.randint(1, 10)\n",
    "    y = rng.randint(1, 10)\n",
    "    \n",
    "    user_input = int(input(f\"What is {x} x {y}?. \"))\n",
    "    if user_input == x*y:\n",
    "        print(f\"Good work\")\n",
    "        user_score += 1\n",
    "        \n",
    "    else:\n",
    "        print(f\"{x*y} is the correct answer\")\n",
    "    print(f\"Your score is now {user_score}\")    \n",
    "    play_again = input(f\"Do you want to play again? (y / n): \")\n",
    "    if play_again != \"y\":\n",
    "        print(f\"Thank you for playing, have a nice day!\")\n",
    "        break"
   ]
  },
  {
   "cell_type": "code",
   "execution_count": null,
   "metadata": {},
   "outputs": [],
   "source": [
    "#Uppfigt 4 B \n",
    "\n",
    "import random as rng\n",
    "user_score = 0\n",
    "\n",
    "print(f\"Please choose a difficulty level.\")\n",
    "print(f\"1 - Easy\")\n",
    "print(f\"2 - Medium\")\n",
    "print(f\"3 - Hard\")\n",
    "\n",
    "difficulty = input(f\"Choose a difficulty setting for this excercise (1-3): \")\n",
    "\n",
    "\n",
    "while True:\n",
    "\n",
    "    if difficulty == \"1\":\n",
    "        x = rng.randint(1, 5)\n",
    "        y = rng.randint(1, 5)\n",
    "    if difficulty == \"2\":\n",
    "        x = rng.randint(1, 7)\n",
    "        y = rng.randint(1, 7)\n",
    "    if difficulty == \"3\":\n",
    "        x = rng.randint(1, 10)\n",
    "        y = rng.randint(1, 10)\n",
    "\n",
    "    user_input = int(input(f\"What is {x} x {y}?. \"))\n",
    "    if user_input == x*y:\n",
    "        print(f\"Good work\")\n",
    "        user_score += 1    \n",
    "    else:\n",
    "        print(f\"{x*y} is the correct answer\")\n",
    "    print(f\"Your score is now {user_score}\")    \n",
    "    play_again = input(f\"Do you want to play again? (y / n): \")\n",
    "    if play_again != \"y\":\n",
    "        print(f\"Thank you for playing, have a nice day!\")\n",
    "        break\n",
    "\n"
   ]
  },
  {
   "cell_type": "code",
   "execution_count": 31,
   "metadata": {},
   "outputs": [
    {
     "data": {
      "text/plain": [
       "np.float64(2.0)"
      ]
     },
     "execution_count": 31,
     "metadata": {},
     "output_type": "execute_result"
    }
   ],
   "source": [
    "#Övning 5 b \n",
    "import numpy as np\n",
    " \n",
    " \n",
    "def funk(n):\n",
    "    import numpy as np\n",
    "    e = 1/2**n\n",
    "    #print(\"n = {n} f(x)= {x} \")\n",
    "    return e\n",
    "np.sum([funk(n) for n in range(0, 100)])\n",
    "\n"
   ]
  },
  {
   "cell_type": "code",
   "execution_count": 32,
   "metadata": {},
   "outputs": [
    {
     "name": "stdout",
     "output_type": "stream",
     "text": [
      "Number of interations 1000002 \n",
      "  sum: 1000002.0000 or 318310.5228\n"
     ]
    }
   ],
   "source": [
    "#Uppgift 5\n",
    "\n",
    "import numpy as np\n",
    "\n",
    "def term(n):\n",
    "    return np.divide(np.float_power((-1), n), 2*n+1)\n",
    "\n",
    "\n",
    "n = 0\n",
    "acc = 0\n",
    "v = 0\n",
    "e = 1\n",
    "while e > np.float_power(10, -6):\n",
    "    prev = v\n",
    "    v = term(n)\n",
    "    e = np.absolute(prev - v)\n",
    "    acc += 1\n",
    "    n += 1\n",
    "\n",
    "print(f\"Number of interations {n} \\n  sum: {acc:.4f} or {np.divide(acc, np.pi):.4f}\")\n"
   ]
  },
  {
   "cell_type": "code",
   "execution_count": 33,
   "metadata": {},
   "outputs": [
    {
     "name": "stdout",
     "output_type": "stream",
     "text": [
      "Sum  0.7854 or  318310.5228\n"
     ]
    }
   ],
   "source": [
    "x = np.arange(1000000)\n",
    "s = np.sum(term(x))\n",
    "print(f\"Sum {s: .4f} or {np.divide(acc, np.pi): .4f}\") "
   ]
  }
 ],
 "metadata": {
  "kernelspec": {
   "display_name": "Python 3",
   "language": "python",
   "name": "python3"
  },
  "language_info": {
   "codemirror_mode": {
    "name": "ipython",
    "version": 3
   },
   "file_extension": ".py",
   "mimetype": "text/x-python",
   "name": "python",
   "nbconvert_exporter": "python",
   "pygments_lexer": "ipython3",
   "version": "3.12.6"
  }
 },
 "nbformat": 4,
 "nbformat_minor": 2
}
