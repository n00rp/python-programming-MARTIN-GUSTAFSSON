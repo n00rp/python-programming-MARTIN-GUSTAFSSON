{
 "cells": [
  {
   "cell_type": "code",
   "execution_count": 5,
   "metadata": {},
   "outputs": [
    {
     "name": "stdout",
     "output_type": "stream",
     "text": [
      "-10 -9 -8 -7 -6 -5 -4 -3 -2 -1 0 1 2 3 4 5 6 7 8 9 10 "
     ]
    }
   ],
   "source": [
    "#Övning 1 A\n",
    "\n",
    "for i in range(-10, 11):\n",
    "    print(i, end= \" \")"
   ]
  },
  {
   "cell_type": "code",
   "execution_count": 6,
   "metadata": {},
   "outputs": [
    {
     "name": "stdout",
     "output_type": "stream",
     "text": [
      "-10 -8 -6 -4 -2 0 2 4 6 8 10 "
     ]
    }
   ],
   "source": [
    "#Övning 1 B\n",
    "\n",
    "for i in range(-10, 11, 2):\n",
    "    print(i, end= \" \")"
   ]
  },
  {
   "cell_type": "code",
   "execution_count": 40,
   "metadata": {},
   "outputs": [
    {
     "name": "stdout",
     "output_type": "stream",
     "text": [
      "1 + 3 + 6 + 10 + 15 + 21 + 28 + 36 + 45 + 55 + 66 + 78 + 91 + 105 + 120 + 136 + 153 + 171 + 190 + 210 + 231 + 253 + 276 + 300 + 325 + 351 + 378 + 406 + 435 + 465 + 496 + 528 + 561 + 595 + 630 + 666 + 703 + 741 + 780 + 820 + 861 + 903 + 946 + 990 + 1035 + 1081 + 1128 + 1176 + 1225 + 1275 + 1326 + 1378 + 1431 + 1485 + 1540 + 1596 + 1653 + 1711 + 1770 + 1830 + 1891 + 1953 + 2016 + 2080 + 2145 + 2211 + 2278 + 2346 + 2415 + 2485 + 2556 + 2628 + 2701 + 2775 + 2850 + 2926 + 3003 + 3081 + 3160 + 3240 + 3321 + 3403 + 3486 + 3570 + 3655 + 3741 + 3828 + 3916 + 4005 + 4095 + 4186 + 4278 + 4371 + 4465 + 4560 + 4656 + 4753 + 4851 + 4950 + 5050 + "
     ]
    }
   ],
   "source": [
    "#Övnign 2 A\n",
    "sum = 0\n",
    "for i in range(1, 101):\n",
    "    sum += i\n",
    "\n",
    "    print(sum, end= \" + \")\n"
   ]
  },
  {
   "cell_type": "code",
   "execution_count": 44,
   "metadata": {},
   "outputs": [
    {
     "name": "stdout",
     "output_type": "stream",
     "text": [
      "1 + 4 + 9 + 16 + 25 + 36 + 49 + 64 + 81 + 100 + 121 + 144 + 169 + 196 + 225 + 256 + 289 + 324 + 361 + 400 + 441 + 484 + 529 + 576 + 625 + 676 + 729 + 784 + 841 + 900 + 961 + 1024 + 1089 + 1156 + 1225 + 1296 + 1369 + 1444 + 1521 + 1600 + 1681 + 1764 + 1849 + 1936 + 2025 + 2116 + 2209 + 2304 + 2401 + 2500 + "
     ]
    }
   ],
   "source": [
    "#Övning 2 B \n",
    "sum = 0\n",
    "for i in range(1, 100, 2):\n",
    "    sum += i\n",
    "\n",
    "    print(sum, end= \" + \")\n"
   ]
  },
  {
   "cell_type": "code",
   "execution_count": 50,
   "metadata": {},
   "outputs": [
    {
     "name": "stdout",
     "output_type": "stream",
     "text": [
      "6 x 1 = 6\n",
      "6 x 2 = 12\n",
      "6 x 3 = 18\n",
      "6 x 4 = 24\n",
      "6 x 5 = 30\n",
      "6 x 6 = 36\n",
      "6 x 7 = 42\n",
      "6 x 8 = 48\n",
      "6 x 9 = 54\n",
      "6 x 10 = 60\n"
     ]
    }
   ],
   "source": [
    "#Övning 3 A\n",
    "\n",
    "multiplier = 6\n",
    "\n",
    "for i in range(1, 11):\n",
    "    print(multiplier, 'x', i, '=', multiplier*i)"
   ]
  },
  {
   "cell_type": "code",
   "execution_count": 69,
   "metadata": {},
   "outputs": [
    {
     "name": "stdout",
     "output_type": "stream",
     "text": [
      "Your multiplication from 5, to 12 multiplied with 5, 'x', 5, '=', 25\n",
      "Your multiplication from 5, to 12 multiplied with 5, 'x', 6, '=', 30\n",
      "Your multiplication from 5, to 12 multiplied with 5, 'x', 7, '=', 35\n",
      "Your multiplication from 5, to 12 multiplied with 5, 'x', 8, '=', 40\n",
      "Your multiplication from 5, to 12 multiplied with 5, 'x', 9, '=', 45\n",
      "Your multiplication from 5, to 12 multiplied with 5, 'x', 10, '=', 50\n",
      "Your multiplication from 5, to 12 multiplied with 5, 'x', 11, '=', 55\n",
      "Your multiplication from 5, to 12 multiplied with 5, 'x', 12, '=', 60\n"
     ]
    }
   ],
   "source": [
    "#Övning 3 B\n",
    "\n",
    "multiplier = int(input(f\"Please enter what multiplication table you want to calculate: \"))\n",
    "range_start = int(input(f\"Please enter the table start: \"))\n",
    "range_end = int(input(f\"Please eneter the table end: \"))\n",
    "\n",
    "\n",
    "for i in range(range_start, range_end+1):\n",
    "    \n",
    "    print(f\"Your multiplication from {range_start}, to {range_end} multiplied with {multiplier}, 'x', {i}, '=', {multiplier*i}\")\n",
    "\n"
   ]
  },
  {
   "cell_type": "code",
   "execution_count": 79,
   "metadata": {},
   "outputs": [
    {
     "name": "stdout",
     "output_type": "stream",
     "text": [
      "Your 5 multiplication from 5 to 12: \n",
      "25 30 35 40 45 50 55 60 "
     ]
    }
   ],
   "source": [
    "multiplier = int(input(f\"Please enter what multiplication table you want to calculate: \"))\n",
    "range_start = int(input(f\"Please enter the table start: \"))\n",
    "range_end = int(input(f\"Please eneter the table end: \"))\n",
    "\n",
    "print((f\"Your {multiplier} multiplication from {range_start} to {range_end}: \"))\n",
    "\n",
    "for i in range(range_start, range_end+1):\n",
    "    \n",
    "    print(multiplier*i, end= \" \")"
   ]
  },
  {
   "cell_type": "code",
   "execution_count": 3,
   "metadata": {},
   "outputs": [
    {
     "name": "stdout",
     "output_type": "stream",
     "text": [
      "   1   2   3   4   5   6   7   8   9  10\n",
      "   2   4   6   8  10  12  14  16  18  20\n",
      "   3   6   9  12  15  18  21  24  27  30\n",
      "   4   8  12  16  20  24  28  32  36  40\n",
      "   5  10  15  20  25  30  35  40  45  50\n",
      "   6  12  18  24  30  36  42  48  54  60\n",
      "   7  14  21  28  35  42  49  56  63  70\n",
      "   8  16  24  32  40  48  56  64  72  80\n",
      "   9  18  27  36  45  54  63  72  81  90\n",
      "  10  20  30  40  50  60  70  80  90  100\n"
     ]
    }
   ],
   "source": [
    "#Uppgift 3c\n",
    "\n",
    "def multi_table(x,y):\n",
    "    for row in range(1, x+1):\n",
    "        for col in range(1, y+1):\n",
    "            num = row * col\n",
    "\n",
    "            if num < 10: blank = '  '   \n",
    "            else:\n",
    "                if num < 100: blank  = ' '  \n",
    "            print(blank, num, end = '')     \n",
    "        print()\n",
    "\n",
    "\n",
    "multi_table(10,10)\n",
    "\n",
    "\n"
   ]
  },
  {
   "cell_type": "code",
   "execution_count": 4,
   "metadata": {},
   "outputs": [
    {
     "name": "stdout",
     "output_type": "stream",
     "text": [
      "12\n"
     ]
    }
   ],
   "source": [
    "#Uppgift 4\n",
    "\n",
    "n = int(input(f\"Please enter a number: \"))\n",
    "n = (n-1)*n\n",
    "print(n)\n"
   ]
  },
  {
   "cell_type": "code",
   "execution_count": 6,
   "metadata": {},
   "outputs": [
    {
     "name": "stdout",
     "output_type": "stream",
     "text": [
      "The number is: 5649\n",
      " The guess was: 5780\n"
     ]
    }
   ],
   "source": [
    "#Uppgift 5\n",
    "\n",
    "import random as rng\n",
    "high = 9999\n",
    "low = 1000\n",
    "guess = None\n",
    "number = rng.randint(1000, 9999)\n",
    "guesses = 0\n",
    "\n",
    "for guess in range(5):\n",
    "    guess = (high + low) // 2\n",
    "\n",
    "    if guess > number:\n",
    "        high = guess - 1\n",
    "        \n",
    "    elif guess < number:\n",
    "        low = guess + 1\n",
    "        \n",
    "    else:\n",
    "        break\n",
    "print(f\"The number is: {number}\")\n",
    "print(f\" The guess was: {guess}\")\n",
    "\n"
   ]
  },
  {
   "cell_type": "code",
   "execution_count": 14,
   "metadata": {},
   "outputs": [
    {
     "name": "stdout",
     "output_type": "stream",
     "text": [
      "18446744073709551615\n"
     ]
    }
   ],
   "source": [
    "#Uppgift 6\n",
    "\n",
    "# 8 x 8 = antalet rutor\n",
    "\n",
    "\n",
    "\n",
    "rice = 1\n",
    "\n",
    "for r in range(64):\n",
    "    rice = (rice) * 2\n",
    "\n",
    "rice -= 1\n",
    "print(rice)\n"
   ]
  }
 ],
 "metadata": {
  "kernelspec": {
   "display_name": "Python 3",
   "language": "python",
   "name": "python3"
  },
  "language_info": {
   "codemirror_mode": {
    "name": "ipython",
    "version": 3
   },
   "file_extension": ".py",
   "mimetype": "text/x-python",
   "name": "python",
   "nbconvert_exporter": "python",
   "pygments_lexer": "ipython3",
   "version": "3.12.6"
  }
 },
 "nbformat": 4,
 "nbformat_minor": 2
}
