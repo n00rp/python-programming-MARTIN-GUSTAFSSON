{
 "cells": [
  {
   "cell_type": "code",
   "execution_count": 6,
   "metadata": {},
   "outputs": [
    {
     "name": "stdout",
     "output_type": "stream",
     "text": [
      "5.0\n"
     ]
    }
   ],
   "source": [
    "#Hypotinusan 1a\n",
    "import math\n",
    "\n",
    "a = 3**2\n",
    "b = 4**2\n",
    "c = a + b\n",
    "c = math.sqrt(c)\n",
    "\n",
    "print(c)"
   ]
  },
  {
   "cell_type": "code",
   "execution_count": 13,
   "metadata": {},
   "outputs": [
    {
     "name": "stdout",
     "output_type": "stream",
     "text": [
      "4.9\n"
     ]
    }
   ],
   "source": [
    "#Uppgift 1b\n",
    "import math\n",
    "c = 7**2\n",
    "a = 5.0**2\n",
    "b = c - a\n",
    "b = math.sqrt(b)\n",
    "print(round(b, 1))"
   ]
  },
  {
   "cell_type": "code",
   "execution_count": 23,
   "metadata": {},
   "outputs": [
    {
     "name": "stdout",
     "output_type": "stream",
     "text": [
      "The model is accurate to 82.19%\n"
     ]
    }
   ],
   "source": [
    "# Uppgift 2\n",
    "\n",
    "a = 300\n",
    "b = 365\n",
    "c = (a / b) * 100\n",
    "c = round(c, 2)\n",
    "print(f\"The model is accurate to {c}%\")"
   ]
  },
  {
   "cell_type": "code",
   "execution_count": 25,
   "metadata": {},
   "outputs": [
    {
     "name": "stdout",
     "output_type": "stream",
     "text": [
      "0.987\n"
     ]
    }
   ],
   "source": [
    "#uppgift 3\n",
    "\n",
    "tp = 2\n",
    "fp = 2\n",
    "fn = 11\n",
    "tn = 985\n",
    "\n",
    "a = (tp + tn) / (tp + tn + fp + fn) \n",
    "\n",
    "print(a)"
   ]
  },
  {
   "cell_type": "code",
   "execution_count": 31,
   "metadata": {},
   "outputs": [
    {
     "name": "stdout",
     "output_type": "stream",
     "text": [
      "0.75\n"
     ]
    }
   ],
   "source": [
    "#Uppgift 4\n",
    "\n",
    "y1 = 1\n",
    "x1 = 0\n",
    "y2 = 4\n",
    "x2 = 4\n",
    "\n",
    "k = (y2 - y1) / (x2 - x1)\n",
    "m = 1\n",
    "\n",
    "print(k)\n",
    "#y = 0,75x + 1"
   ]
  },
  {
   "cell_type": "code",
   "execution_count": 38,
   "metadata": {},
   "outputs": [
    {
     "name": "stdout",
     "output_type": "stream",
     "text": [
      "5.1\n"
     ]
    }
   ],
   "source": [
    "import math\n",
    "\n",
    "x1 = -2\n",
    "x2 = 3\n",
    "y1 = 4\n",
    "y2 = 5\n",
    "\n",
    "distance = math.sqrt((x2 - x1)**2 + (y2 - y1)**2)\n",
    "\n",
    "print(round(distance, 1))"
   ]
  },
  {
   "cell_type": "code",
   "execution_count": 41,
   "metadata": {},
   "outputs": [
    {
     "name": "stdout",
     "output_type": "stream",
     "text": [
      "4.12\n"
     ]
    }
   ],
   "source": [
    "#Övning 6\n",
    "import math\n",
    "\n",
    "p1 = 2\n",
    "p2 = 1\n",
    "p3 = 4\n",
    "\n",
    "q1 = 3\n",
    "q2 = 1\n",
    "q3 = 0\n",
    "\n",
    "d = math.sqrt((p1 - q1)**2 + (p2 - q2)**2 + (p3 - q3)**2)\n",
    "\n",
    "print(round(d, 2))"
   ]
  }
 ],
 "metadata": {
  "kernelspec": {
   "display_name": "Python 3",
   "language": "python",
   "name": "python3"
  },
  "language_info": {
   "codemirror_mode": {
    "name": "ipython",
    "version": 3
   },
   "file_extension": ".py",
   "mimetype": "text/x-python",
   "name": "python",
   "nbconvert_exporter": "python",
   "pygments_lexer": "ipython3",
   "version": "3.12.3"
  }
 },
 "nbformat": 4,
 "nbformat_minor": 2
}
