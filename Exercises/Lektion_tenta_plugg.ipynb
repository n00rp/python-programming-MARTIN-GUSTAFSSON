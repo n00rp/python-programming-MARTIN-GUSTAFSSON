{
 "cells": [
  {
   "cell_type": "markdown",
   "metadata": {},
   "source": [
    "Genomgång av tenta inför fredagen: \n",
    "\n",
    "Dictionary = innehåller nycklar och värden, otroligt snabb med direkt acess till informationen oberoende hur lång den är\n",
    "Set = innehåller enbart nycklar\n",
    "\n",
    "\n",
    "\n"
   ]
  },
  {
   "cell_type": "markdown",
   "metadata": {},
   "source": [
    "## Variabler och Konstanter\n",
    "\n",
    "Variabler är bitar aav minne som innehåller tal. Vi tolkar talen nberoende på vilken _typ_ variablen har.\n",
    "Konstanter är \"immuntable\", dvs de kan inte ändras efter att de har skapats"
   ]
  },
  {
   "cell_type": "code",
   "execution_count": null,
   "metadata": {},
   "outputs": [],
   "source": [
    "#Type-hints are optional\n",
    "\n",
    "a: int = 43\n",
    "b: str = \"hejsan\"\n",
    "#Lists can have different objects in them, aka \"polytypic lists\"\n",
    "c:  list =[2,3,4]\n",
    "d: list = [\"2,\", 3, 4,5]\n",
    "kv: dict ={\"Ada\": 1, \"Lovelock\": 2, \"Enstein\": 3}\n",
    "#Sets can also have different types, as long as they are \"hashable\", ie converted to numbers.\n",
    "sm: set = {1,2,3,4,5,6,7,8}\n",
    "sm2: set = {\"a\", \"b\"}\n",
    "\n",
    "sm3: set = {\"a\", 1}\n",
    "#Constants can be defined like this, in the form of a tuple\n",
    "const = (1,2)\n",
    "\n"
   ]
  },
  {
   "cell_type": "markdown",
   "metadata": {},
   "source": [
    "## Funktioner"
   ]
  },
  {
   "cell_type": "code",
   "execution_count": null,
   "metadata": {},
   "outputs": [],
   "source": [
    "#Pure functions, no side effects, only uses input parameters and predefined operations\n",
    "def my_function(a , b, c=1):\n",
    "    \"\"\"Here there should be a usage text for this function\"\"\"\n",
    "    return a*c + b\n",
    "\n",
    "def my_proc():\n",
    "    with open\"somefile\" as file:\n",
    "        return file.readlines()\n",
    "\n",
    "import numpy as np\n",
    "radius = 3.0\n",
    "area = 2 * np.pi * np.power(radius, 2)\n",
    "\n"
   ]
  },
  {
   "cell_type": "markdown",
   "metadata": {},
   "source": [
    "## Listor"
   ]
  },
  {
   "cell_type": "code",
   "execution_count": 2,
   "metadata": {},
   "outputs": [
    {
     "data": {
      "text/plain": [
       "(10, [1, 2, 3, 4, 5, 6, 7, 8, 9, 10])"
      ]
     },
     "execution_count": 2,
     "metadata": {},
     "output_type": "execute_result"
    }
   ],
   "source": [
    "#Indexing\n",
    "A = [1,2,3,4,5, 6, 7, 8, 9, 10]\n",
    "S = \"Detta är en sträng\"\n",
    "A[1:7] #Detta kallas för slicing eller index-slicing\n",
    "\n",
    "e = A.pop() #Tar bort sista elementet \n",
    "A.append(e) # Lägger till sista elementet \n",
    "e, A \n",
    "\n"
   ]
  },
  {
   "cell_type": "code",
   "execution_count": 9,
   "metadata": {},
   "outputs": [
    {
     "data": {
      "text/plain": [
       "([0, 4, 16, 36, 64], [0, 4, 16, 36, 64])"
      ]
     },
     "execution_count": 9,
     "metadata": {},
     "output_type": "execute_result"
    }
   ],
   "source": [
    "#List comprehension\n",
    "sqrs = [i ** 2 for i in range(10) if i % 2 == 0]\n",
    "\n",
    "#Dessa två gör samma sak men är skrivna på olika sätt.\n",
    "\n",
    "sqr_list = []\n",
    "for i in range(10):\n",
    "    if i % 2 == 0:\n",
    "     sqr_list.append(i ** 2)\n",
    "sqr_list, sqrs"
   ]
  },
  {
   "cell_type": "markdown",
   "metadata": {},
   "source": [
    "## Dictionary"
   ]
  },
  {
   "cell_type": "code",
   "execution_count": 7,
   "metadata": {},
   "outputs": [
    {
     "name": "stdout",
     "output_type": "stream",
     "text": [
      "1\n",
      "a 1\n",
      "b 2\n",
      "c 3\n",
      "{'Byron': 'Ada', 'Gödel': 'Kurt', 'Turing': 'Alan', 'Church': 'Alonzo'}\n",
      "{'Byron': 'Ada', 'Gödel': 'Kurt', 'Turing': 'Alan', 'Church': 'Alonzo'}\n"
     ]
    }
   ],
   "source": [
    "kv = {\"a\" : 1, \"b\" : 2, \"c\" : 3}\n",
    "#Indexeras med nycklar\n",
    "print(kv[\"a\"])\n",
    "\n",
    "#Iteratorar med nycklar\n",
    "for k, v in kv.items():\n",
    "    print(k,v)\n",
    "\n",
    "A = [\"Ada\", \"Kurt\", \"Alan\", \"Alonzo\"]\n",
    "B = [\"Byron\", \"Gödel\", \"Turing\", \"Church\"]\n",
    "\n",
    "#Zip listorna och skapar en dict\n",
    "computer_scientists = {efternamn:fornamn for fornamn, efternamn in zip(A, B)}\n",
    "print(dict(zip(B, A)))\n",
    "print(computer_scientists)"
   ]
  }
 ],
 "metadata": {
  "kernelspec": {
   "display_name": ".venv",
   "language": "python",
   "name": "python3"
  },
  "language_info": {
   "codemirror_mode": {
    "name": "ipython",
    "version": 3
   },
   "file_extension": ".py",
   "mimetype": "text/x-python",
   "name": "python",
   "nbconvert_exporter": "python",
   "pygments_lexer": "ipython3",
   "version": "3.12.6"
  }
 },
 "nbformat": 4,
 "nbformat_minor": 2
}
