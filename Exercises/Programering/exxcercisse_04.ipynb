{
 "cells": [
  {
   "cell_type": "code",
   "execution_count": 25,
   "metadata": {},
   "outputs": [
    {
     "name": "stdout",
     "output_type": "stream",
     "text": [
      "[2, 2, 2, 3, 4, 4, 4, 5, 6, 6]\n"
     ]
    }
   ],
   "source": [
    "#Uppgift 1 A\n",
    "\n",
    "import random as rng\n",
    "\n",
    "dice_roll= []\n",
    "for dice in range(10):\n",
    "    dice = rng.randint(1,6)\n",
    "    dice_roll.append(dice)\n",
    "dice_roll.sort()\n",
    "print(dice_roll)"
   ]
  },
  {
   "cell_type": "code",
   "execution_count": 26,
   "metadata": {},
   "outputs": [
    {
     "name": "stdout",
     "output_type": "stream",
     "text": [
      "[6, 6, 5, 4, 4, 4, 3, 2, 2, 2]\n"
     ]
    }
   ],
   "source": [
    "#Uppgift 1 B\n",
    "dice_roll.reverse()\n",
    "print(dice_roll)"
   ]
  },
  {
   "cell_type": "code",
   "execution_count": 40,
   "metadata": {},
   "outputs": [
    {
     "name": "stdout",
     "output_type": "stream",
     "text": [
      "[5, 1, 6, 5, 1, 6, 3, 2, 3, 3]\n",
      "Maximum 6\n",
      "Minimum 1\n"
     ]
    }
   ],
   "source": [
    "#Uppgift 1 C\n",
    "\n",
    "import random as rng\n",
    "\n",
    "dice_roll= []\n",
    "for dice in range(10):\n",
    "    dice = rng.randint(1,6)\n",
    "    dice_roll.append(dice)\n",
    "print(dice_roll)\n",
    "print(\"Maximum\", max(dice_roll))\n",
    "print(\"Minimum\", min(dice_roll))"
   ]
  },
  {
   "cell_type": "code",
   "execution_count": 45,
   "metadata": {},
   "outputs": [
    {
     "name": "stdout",
     "output_type": "stream",
     "text": [
      "Bambameny:\n",
      "Mån: Vegetarisk Lasagne \n",
      "Tis: Spaghetti \n",
      "Ons: Fisk \n",
      "Tor: Grönsakssoppa \n",
      "Fre: Pannkakor \n",
      "\n"
     ]
    }
   ],
   "source": [
    "#Uppgift 2  \\\\\\     A , B , C\n",
    "\n",
    "lunch_food = [\"Vegetarisk Lasagne\", \"Spaghetti\", \"Fisk\", \"Grönsakssoppa\", \"Pannkakor\"]\n",
    "weekdays = [\"Mån\", \"Tis\", \"Ons\", \"Tor\", \"Fre\"]\n",
    "bamba_meny = \"Bambameny:\\n\"\n",
    "\n",
    "for day, food in zip(weekdays, lunch_food):\n",
    "    bamba_meny += f\"{day}: {food} \\n\"\n",
    "\n",
    "print(bamba_meny)\n"
   ]
  },
  {
   "cell_type": "code",
   "execution_count": 31,
   "metadata": {},
   "outputs": [
    {
     "name": "stdout",
     "output_type": "stream",
     "text": [
      "[100, 81, 64, 49, 36, 25, 16, 9, 4, 1, 0, 1, 4, 9, 16, 25, 36, 49, 64, 81, 100]\n",
      "[[100, 81, 64, 49, 36, 25, 16, 9, 4, 1, 0, 1, 4, 9, 16, 25, 36, 49, 64, 81, 100]]\n"
     ]
    }
   ],
   "source": [
    "#Uppgift 3 A\n",
    "\n",
    "import matplotlib as mpl\n",
    "start = -10\n",
    "end = 10\n",
    "\n",
    "def squares(start, end):\n",
    "    return [x*x for x in range(start, end +1)]\n",
    "print(squares(start, end))\n",
    "\n",
    "list = []\n",
    "\n",
    "list.append(squares(-10, 10))\n",
    "\n",
    "print(list)\n"
   ]
  },
  {
   "cell_type": "code",
   "execution_count": 34,
   "metadata": {},
   "outputs": [
    {
     "name": "stdout",
     "output_type": "stream",
     "text": [
      "[[100, 81, 64, 49, 36, 25, 16, 9, 4, 1, 0, 1, 4, 9, 16, 25, 36, 49, 64, 81, 100]]\n"
     ]
    }
   ],
   "source": [
    "#Uppgift 3 A\n",
    "\n",
    "print(list)\n"
   ]
  },
  {
   "cell_type": "code",
   "execution_count": 60,
   "metadata": {},
   "outputs": [
    {
     "data": {
      "text/plain": [
       "Text(0.5, 1.0, 'The function x^2')"
      ]
     },
     "execution_count": 60,
     "metadata": {},
     "output_type": "execute_result"
    },
    {
     "data": {
      "image/png": "[encoded data removed]",
      "text/plain": [
       "<Figure size 640x480 with 1 Axes>"
      ]
     },
     "metadata": {},
     "output_type": "display_data"
    }
   ],
   "source": [
    "#Uppgift 3B\n",
    "import numpy as np\n",
    "import matplotlib.pyplot as plt\n",
    "\n",
    "def squares(x):\n",
    "    return x**2\n",
    "x_values = np.array(range(-10, 11))\n",
    "y_values = [squares(x) for x in x_values]\n",
    "plt.plot(x_values, y_values)\n",
    "plt.xlabel(\"X\")\n",
    "plt.ylabel(\"Y\")\n",
    "plt.title(\"The function x^2\")\n",
    "\n",
    "\n"
   ]
  },
  {
   "cell_type": "code",
   "execution_count": 103,
   "metadata": {},
   "outputs": [
    {
     "name": "stdout",
     "output_type": "stream",
     "text": [
      "['1', ' ', 'A', ' ', '\\n', '2', ' ', 'B', ' ', '\\n', '3', ' ', 'C', ' ', '\\n', '4', ' ', 'D', ' ', '\\n', '5', ' ', 'E', ' ', '\\n', '6', ' ', 'F', ' ', '\\n', '7', ' ', 'G', ' ', '\\n', '8', ' ', 'H', ' ', '\\n']\n"
     ]
    }
   ],
   "source": [
    "#Uppgift 4 ///// A B C\n",
    "\n",
    "list1 = [1,2,3,4,5,6,7,8]\n",
    "list2 = [\"A\",\"B\",\"C\",\"D\",\"E\",\"F\",\"G\",\"H\"]\n",
    "chess = []\n",
    "for ruta, nummer in zip(list1, list2):\n",
    "    chess += f\"{ruta} {nummer} \\n\"\n",
    "\n",
    "print(chess)"
   ]
  },
  {
   "cell_type": "code",
   "execution_count": 1,
   "metadata": {},
   "outputs": [
    {
     "name": "stdout",
     "output_type": "stream",
     "text": [
      "['A1', 'B1', 'C1', 'D1', 'E1', 'F1', 'G1', 'H1']\n",
      "['A2', 'B2', 'C2', 'D2', 'E2', 'F2', 'G2', 'H2']\n",
      "['A3', 'B3', 'C3', 'D3', 'E3', 'F3', 'G3', 'H3']\n",
      "['A4', 'B4', 'C4', 'D4', 'E4', 'F4', 'G4', 'H4']\n",
      "['A5', 'B5', 'C5', 'D5', 'E5', 'F5', 'G5', 'H5']\n",
      "['A6', 'B6', 'C6', 'D6', 'E6', 'F6', 'G6', 'H6']\n",
      "['A7', 'B7', 'C7', 'D7', 'E7', 'F7', 'G7', 'H7']\n",
      "['A8', 'B8', 'C8', 'D8', 'E8', 'F8', 'G8', 'H8']\n"
     ]
    }
   ],
   "source": [
    "#Övning 4 \\\\\\\\ A B \n",
    "\n",
    "\n",
    "list1 = ['A', 'B', 'C', 'D', 'E', 'F', 'G', 'H']\n",
    "list2 = [1,2,3,4,5,6,7,8]\n",
    "result = []\n",
    "for i in list2:\n",
    "    result.append([L+str(i) for L in list1])\n",
    " \n",
    "for r in result:\n",
    "    print(r)"
   ]
  },
  {
   "cell_type": "code",
   "execution_count": 5,
   "metadata": {},
   "outputs": [
    {
     "name": "stdout",
     "output_type": "stream",
     "text": [
      "The number of outcome six in 100 dice rolls is: 18\n"
     ]
    }
   ],
   "source": [
    "#Övning 5 A\n",
    "\n",
    "count_six = []\n",
    " \n",
    "import random as rng\n",
    "for dice in range(100):\n",
    "    dice = rng.randint(1,6)\n",
    "    if dice == 6:\n",
    "        count_six.append(dice)\n",
    "print((f\"The number of outcome six in 100 dice rolls is: {len(count_six)}\"))"
   ]
  },
  {
   "cell_type": "code",
   "execution_count": 80,
   "metadata": {},
   "outputs": [
    {
     "name": "stdout",
     "output_type": "stream",
     "text": [
      "1\n",
      "22\n",
      "173\n",
      "1658\n",
      "16532\n",
      "167190\n"
     ]
    }
   ],
   "source": [
    "#Övning 5B\n",
    "\n",
    "import random as rng\n",
    "import numpy as np\n",
    "\n",
    "def count_six(dice_rolls):\n",
    "    num_six = []\n",
    "    \n",
    "    for _ in range(dice_rolls):\n",
    "        dice = rng.randint(1, 6)\n",
    "        if dice == 6:\n",
    "            num_six.append(dice)            \n",
    "    return len(num_six)\n",
    "\n",
    "\n",
    "print(count_six(10))\n",
    "print(count_six(100))\n",
    "print(count_six(1000))\n",
    "print(count_six(10000))\n",
    "print(count_six(100000))\n",
    "print(count_six(1000000))\n"
   ]
  },
  {
   "cell_type": "code",
   "execution_count": 78,
   "metadata": {},
   "outputs": [
    {
     "name": "stdout",
     "output_type": "stream",
     "text": [
      "Number of sixes for 10 rolls: 0\n",
      "The probability of getting a sex in 10 is: 0.0\n",
      "\n",
      "\n",
      "Number of sixes for 100 rolls: 16\n",
      "The probability of getting a sex in 100 is: 0.16\n",
      "\n",
      "\n",
      "Number of sixes for 1000 rolls: 175\n",
      "The probability of getting a sex in 1000 is: 0.175\n",
      "\n",
      "\n",
      "Number of sixes for 10000 rolls: 1678\n",
      "The probability of getting a sex in 10000 is: 0.1678\n",
      "\n",
      "\n",
      "Number of sixes for 100000 rolls: 16450\n",
      "The probability of getting a sex in 100000 is: 0.1645\n",
      "\n",
      "\n",
      "Number of sixes for 1000000 rolls: 166362\n",
      "The probability of getting a sex in 1000000 is: 0.166362\n",
      "\n",
      "\n"
     ]
    },
    {
     "data": {
      "image/png": "[encoded data removed]",
      "text/plain": [
       "<Figure size 640x480 with 1 Axes>"
      ]
     },
     "metadata": {},
     "output_type": "display_data"
    }
   ],
   "source": [
    "#Uppgift 5 C\n",
    "\n",
    "import numpy as np\n",
    "import matplotlib.pyplot as plt\n",
    "\n",
    "# Initialize random number generator\n",
    "rng = np.random.default_rng()\n",
    "\n",
    "def count_six_and_print(dice_rolls):\n",
    "    num_six = []  # Store the six counts, as in your original code\n",
    "    \n",
    "    # Simulate dice rolls\n",
    "    for _ in range(dice_rolls):\n",
    "        dice = rng.integers(1, 7)  # Get random integers between 1 and 6\n",
    "        if dice == 6:\n",
    "            num_six.append(dice)\n",
    "    \n",
    "    # Print the number of sixes\n",
    "    print(f\"Number of sixes for {dice_rolls} rolls: {len(num_six)}\")\n",
    "    print(f\"The probability of getting a sex in {dice_rolls} is: {len(num_six) / dice_rolls}\")\n",
    "    print()\n",
    "    print()\n",
    "    # Return the probability\n",
    "    return len(num_six) / dice_rolls\n",
    "\n",
    "# List of dice rolls for each test\n",
    "rolls_list = [10, 100, 1000, 10000, 100000, 1000000]\n",
    "\n",
    "# Store the calculated probabilities\n",
    "probabilities = [count_six_and_print(rolls) for rolls in rolls_list]\n",
    "\n",
    "# Plotting the probabilities\n",
    "plt.plot(rolls_list, probabilities, marker='o', linestyle='-', color='b', label='Probability of rolling a 6')\n",
    "plt.axhline(y=1/6,)\n",
    "plt.xscale('log')  # Use logarithmic scale for x-axis\n",
    "plt.xlabel('Number of Dice Rolls')\n",
    "plt.ylabel('Probability')\n",
    "plt.title('Probability of Rolling a Six vs Number of Dice Rolls')\n",
    "plt.legend()\n",
    "plt.grid(True)\n",
    "plt.show()\n"
   ]
  }
 ],
 "metadata": {
  "kernelspec": {
   "display_name": "Python 3",
   "language": "python",
   "name": "python3"
  },
  "language_info": {
   "codemirror_mode": {
    "name": "ipython",
    "version": 3
   },
   "file_extension": ".py",
   "mimetype": "text/x-python",
   "name": "python",
   "nbconvert_exporter": "python",
   "pygments_lexer": "ipython3",
   "version": "3.12.6"
  }
 },
 "nbformat": 4,
 "nbformat_minor": 2
}
