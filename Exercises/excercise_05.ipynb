{
 "cells": [
  {
   "cell_type": "code",
   "execution_count": 2,
   "metadata": {},
   "outputs": [
    {
     "name": "stdout",
     "output_type": "stream",
     "text": [
      "10\n"
     ]
    }
   ],
   "source": [
    "#Uppgift 1 A\n",
    "\n",
    "word = \"Lindholmen\"\n",
    "\n",
    "print(len(word))"
   ]
  },
  {
   "cell_type": "code",
   "execution_count": 4,
   "metadata": {},
   "outputs": [
    {
     "name": "stdout",
     "output_type": "stream",
     "text": [
      "The number of uppercase letters are: 5\n",
      "The number of lowercase letters are: 5 \n"
     ]
    }
   ],
   "source": [
    "#Uppgift 1 B \n",
    "\n",
    "word1 = \"LiNdHoLmEn\"\n",
    "lower_case = 0\n",
    "upper_case = 0\n",
    "\n",
    "for i in word1:\n",
    "    if (i.islower()):\n",
    "        lower_case += 1\n",
    "    else:\n",
    "        upper_case += 1\n",
    "\n",
    "\n",
    "print(f\"The number of uppercase letters are: {upper_case}\")\n",
    "print(f\"The number of lowercase letters are: {lower_case} \")"
   ]
  },
  {
   "cell_type": "code",
   "execution_count": 13,
   "metadata": {},
   "outputs": [
    {
     "name": "stdout",
     "output_type": "stream",
     "text": [
      "The number of words in the sentence is: 17\n"
     ]
    }
   ],
   "source": [
    "#Uppgift 2 \n",
    "\n",
    "sentence = \"A picture says more than a thousand words, a matematical formula says more than a thousand pictures\"\n",
    "word_count = len(sentence.split())\n",
    "print(f\"The number of words in the sentence is: {word_count}\")\n",
    "\n"
   ]
  },
  {
   "cell_type": "code",
   "execution_count": 2,
   "metadata": {},
   "outputs": [
    {
     "name": "stdout",
     "output_type": "stream",
     "text": [
      "The word kuken is not a palidrome\n"
     ]
    }
   ],
   "source": [
    "#Uppgift 3 \n",
    "\n",
    "def palindrome(input_string):\n",
    "    if (input_string == input_string[::-1]):\n",
    "        return f\"The word {input_string} is a palidrome\"\n",
    "    else:\n",
    "        return f\"The word {input_string} is not a palidrome\"\n",
    "\n",
    "input_string = input(f\"Please enter a word that is a palidrome: \")\n",
    "\n",
    "print(palindrome(input_string))"
   ]
  },
  {
   "cell_type": "code",
   "execution_count": 5,
   "metadata": {},
   "outputs": [
    {
     "name": "stdout",
     "output_type": "stream",
     "text": [
      "There is: 22 in that sentence\n"
     ]
    }
   ],
   "source": [
    "#Uppgift 4\n",
    "\n",
    "vowels_sentence = \"Pure mathematics is, in its way, the poetry of logical ideas\"\n",
    "\n",
    "def count_vowels(vowels_sentence):\n",
    "    vowels = \"aeiouyAEIOUY\"\n",
    "    count = len([char for char in vowels_sentence if char in vowels])\n",
    "\n",
    "    print(f\"There is: {count} in that sentence\")\n",
    "\n",
    "\n",
    "count_vowels(vowels_sentence)"
   ]
  },
  {
   "cell_type": "code",
   "execution_count": 12,
   "metadata": {},
   "outputs": [
    {
     "name": "stdout",
     "output_type": "stream",
     "text": [
      "The word entered was: random\n",
      "The shift was: 1\n",
      "The result from the cipher is: sboepn\n"
     ]
    }
   ],
   "source": [
    "#Uppgift 5\n",
    "\n",
    "encryption = input(str(f\"Please enter a word in english: \"))\n",
    "s = 1\n",
    "def encrypt(encryption, s):\n",
    "    result = \"\"\n",
    "    for i in range(len(encryption)):\n",
    "        word = encryption[i]\n",
    "        if (word.isupper()):\n",
    "            result += chr((ord(word) + s-65) % 26 + 65)\n",
    "        else:\n",
    "            result += chr((ord(word) + s - 97) % 26 + 97)\n",
    "        \n",
    "    \n",
    "    return result\n",
    "\n",
    "print(f\"The word entered was: {encryption}\")\n",
    "print(f\"The shift was: \"+ str(s))\n",
    "print(f\"The result from the cipher is: \" + encrypt(encryption,s))"
   ]
  },
  {
   "cell_type": "code",
   "execution_count": 18,
   "metadata": {},
   "outputs": [
    {
     "name": "stdout",
     "output_type": "stream",
     "text": [
      "The result from the cipher is: sboepn\n"
     ]
    }
   ],
   "source": [
    "encryption = input(str(f\"Please enter the cipher: \"))\n",
    "s = 1\n",
    "def encrypt(encryption, s):\n",
    "    result = \"\"\n",
    "    for i in range(len(encryption)):\n",
    "        word = encryption[i]\n",
    "        if (word.isupper()):\n",
    "            result += chr((ord(word) + s-65) % 26 + 65)\n",
    "        else:\n",
    "            result += chr((ord(word) + s - 97) % 26 + 97)\n",
    "        \n",
    "    \n",
    "    return result\n",
    "\n",
    "print(f\"The result from the cipher is: \" + encrypt(encryption,s))\n",
    "\n"
   ]
  }
 ],
 "metadata": {
  "kernelspec": {
   "display_name": "Python 3",
   "language": "python",
   "name": "python3"
  },
  "language_info": {
   "codemirror_mode": {
    "name": "ipython",
    "version": 3
   },
   "file_extension": ".py",
   "mimetype": "text/x-python",
   "name": "python",
   "nbconvert_exporter": "python",
   "pygments_lexer": "ipython3",
   "version": "3.12.6"
  }
 },
 "nbformat": 4,
 "nbformat_minor": 2
}
