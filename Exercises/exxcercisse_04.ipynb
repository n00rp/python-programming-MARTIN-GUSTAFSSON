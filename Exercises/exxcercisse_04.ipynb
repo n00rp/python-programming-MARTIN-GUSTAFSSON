{
 "cells": [
  {
   "cell_type": "code",
   "execution_count": 25,
   "metadata": {},
   "outputs": [
    {
     "name": "stdout",
     "output_type": "stream",
     "text": [
      "[2, 2, 2, 3, 4, 4, 4, 5, 6, 6]\n"
     ]
    }
   ],
   "source": [
    "#Uppgift 1 A\n",
    "\n",
    "import random as rng\n",
    "\n",
    "dice_roll= []\n",
    "for dice in range(10):\n",
    "    dice = rng.randint(1,6)\n",
    "    dice_roll.append(dice)\n",
    "dice_roll.sort()\n",
    "print(dice_roll)"
   ]
  },
  {
   "cell_type": "code",
   "execution_count": 26,
   "metadata": {},
   "outputs": [
    {
     "name": "stdout",
     "output_type": "stream",
     "text": [
      "[6, 6, 5, 4, 4, 4, 3, 2, 2, 2]\n"
     ]
    }
   ],
   "source": [
    "#Uppgift 1 B\n",
    "dice_roll.reverse()\n",
    "print(dice_roll)"
   ]
  },
  {
   "cell_type": "code",
   "execution_count": 40,
   "metadata": {},
   "outputs": [
    {
     "name": "stdout",
     "output_type": "stream",
     "text": [
      "[5, 1, 6, 5, 1, 6, 3, 2, 3, 3]\n",
      "Maximum 6\n",
      "Minimum 1\n"
     ]
    }
   ],
   "source": [
    "#Uppgift 1 C\n",
    "\n",
    "import random as rng\n",
    "\n",
    "dice_roll= []\n",
    "for dice in range(10):\n",
    "    dice = rng.randint(1,6)\n",
    "    dice_roll.append(dice)\n",
    "print(dice_roll)\n",
    "print(\"Maximum\", max(dice_roll))\n",
    "print(\"Minimum\", min(dice_roll))"
   ]
  },
  {
   "cell_type": "code",
   "execution_count": 45,
   "metadata": {},
   "outputs": [
    {
     "name": "stdout",
     "output_type": "stream",
     "text": [
      "Bambameny:\n",
      "Mån: Vegetarisk Lasagne \n",
      "Tis: Spaghetti \n",
      "Ons: Fisk \n",
      "Tor: Grönsakssoppa \n",
      "Fre: Pannkakor \n",
      "\n"
     ]
    }
   ],
   "source": [
    "#Uppgift 2  \\\\\\     A , B , C\n",
    "\n",
    "lunch_food = [\"Vegetarisk Lasagne\", \"Spaghetti\", \"Fisk\", \"Grönsakssoppa\", \"Pannkakor\"]\n",
    "weekdays = [\"Mån\", \"Tis\", \"Ons\", \"Tor\", \"Fre\"]\n",
    "bamba_meny = \"Bambameny:\\n\"\n",
    "\n",
    "for day, food in zip(weekdays, lunch_food):\n",
    "    bamba_meny += f\"{day}: {food} \\n\"\n",
    "\n",
    "print(bamba_meny)\n"
   ]
  },
  {
   "cell_type": "code",
   "execution_count": 31,
   "metadata": {},
   "outputs": [
    {
     "name": "stdout",
     "output_type": "stream",
     "text": [
      "[100, 81, 64, 49, 36, 25, 16, 9, 4, 1, 0, 1, 4, 9, 16, 25, 36, 49, 64, 81, 100]\n",
      "[[100, 81, 64, 49, 36, 25, 16, 9, 4, 1, 0, 1, 4, 9, 16, 25, 36, 49, 64, 81, 100]]\n"
     ]
    }
   ],
   "source": [
    "#Uppgift 3 A\n",
    "\n",
    "import matplotlib as mpl\n",
    "start = -10\n",
    "end = 10\n",
    "\n",
    "def squares(start, end):\n",
    "    return [x*x for x in range(start, end +1)]\n",
    "print(squares(start, end))\n",
    "\n",
    "list = []\n",
    "\n",
    "list.append(squares(-10, 10))\n",
    "\n",
    "print(list)\n"
   ]
  },
  {
   "cell_type": "code",
   "execution_count": 34,
   "metadata": {},
   "outputs": [
    {
     "name": "stdout",
     "output_type": "stream",
     "text": [
      "[[100, 81, 64, 49, 36, 25, 16, 9, 4, 1, 0, 1, 4, 9, 16, 25, 36, 49, 64, 81, 100]]\n"
     ]
    }
   ],
   "source": [
    "#Uppgift 3 A\n",
    "\n",
    "print(list)\n"
   ]
  },
  {
   "cell_type": "code",
   "execution_count": 60,
   "metadata": {},
   "outputs": [
    {
     "data": {
      "text/plain": [
       "Text(0.5, 1.0, 'The function x^2')"
      ]
     },
     "execution_count": 60,
     "metadata": {},
     "output_type": "execute_result"
    },
    {
     "data": {
      "image/png": "[encoded data removed]",
      "text/plain": [
       "<Figure size 640x480 with 1 Axes>"
      ]
     },
     "metadata": {},
     "output_type": "display_data"
    }
   ],
   "source": [
    "#Uppgift 3B\n",
    "import numpy as np\n",
    "import matplotlib.pyplot as plt\n",
    "\n",
    "def squares(x):\n",
    "    return x**2\n",
    "x_values = np.array(range(-10, 11))\n",
    "y_values = [squares(x) for x in x_values]\n",
    "plt.plot(x_values, y_values)\n",
    "plt.xlabel(\"X\")\n",
    "plt.ylabel(\"Y\")\n",
    "plt.title(\"The function x^2\")\n",
    "\n",
    "\n"
   ]
  },
  {
   "cell_type": "code",
   "execution_count": 103,
   "metadata": {},
   "outputs": [
    {
     "name": "stdout",
     "output_type": "stream",
     "text": [
      "['1', ' ', 'A', ' ', '\\n', '2', ' ', 'B', ' ', '\\n', '3', ' ', 'C', ' ', '\\n', '4', ' ', 'D', ' ', '\\n', '5', ' ', 'E', ' ', '\\n', '6', ' ', 'F', ' ', '\\n', '7', ' ', 'G', ' ', '\\n', '8', ' ', 'H', ' ', '\\n']\n"
     ]
    }
   ],
   "source": [
    "#Uppgift 4 ///// A B C\n",
    "\n",
    "list1 = [1,2,3,4,5,6,7,8]\n",
    "list2 = [\"A\",\"B\",\"C\",\"D\",\"E\",\"F\",\"G\",\"H\"]\n",
    "chess = []\n",
    "for ruta, nummer in zip(list1, list2):\n",
    "    chess += f\"{ruta} {nummer} \\n\"\n",
    "\n",
    "print(chess)"
   ]
  },
  {
   "cell_type": "code",
   "execution_count": null,
   "metadata": {},
   "outputs": [],
   "source": [
    "list1 = \"A1\", \"B1\", \"C1\", \"D1\", \"E1\", \"F1\", \"G1\", \"H1\"\n",
    "# enumerate to get a number for each element in a list that you loop through\n",
    "for i, position in enumerate(list1 ,1): # 1 gives the starting number\n",
    "    print(f\"{i}. {position}\")\n"
   ]
  },
  {
   "cell_type": "code",
   "execution_count": 143,
   "metadata": {},
   "outputs": [
    {
     "name": "stdout",
     "output_type": "stream",
     "text": [
      "(11)(12)(13)(14)(15)(16)(17)(18)\n",
      "(21)(22)(23)(24)(25)(26)(27)(28)\n",
      "(31)(32)(33)(34)(35)(36)(37)(38)\n",
      "(41)(42)(43)(44)(45)(46)(47)(48)\n",
      "(51)(52)(53)(54)(55)(56)(57)(58)\n",
      "(61)(62)(63)(64)(65)(66)(67)(68)\n",
      "(71)(72)(73)(74)(75)(76)(77)(78)\n",
      "(81)(82)(83)(84)(85)(86)(87)(88)\n"
     ]
    }
   ],
   "source": [
    "\n",
    "\n",
    "for x in range(1,9):\n",
    "    for j in range(1,9):\n",
    "        print(f\"({x}{j})\", end=\"\")      \n",
    "    print() "
   ]
  }
 ],
 "metadata": {
  "kernelspec": {
   "display_name": "Python 3",
   "language": "python",
   "name": "python3"
  },
  "language_info": {
   "codemirror_mode": {
    "name": "ipython",
    "version": 3
   },
   "file_extension": ".py",
   "mimetype": "text/x-python",
   "name": "python",
   "nbconvert_exporter": "python",
   "pygments_lexer": "ipython3",
   "version": "3.12.6"
  }
 },
 "nbformat": 4,
 "nbformat_minor": 2
}
