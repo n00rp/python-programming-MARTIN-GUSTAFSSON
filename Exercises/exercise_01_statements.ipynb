{
 "cells": [
  {
   "cell_type": "code",
   "execution_count": 8,
   "metadata": {},
   "outputs": [
    {
     "name": "stdout",
     "output_type": "stream",
     "text": [
      "Your number is zero\n"
     ]
    }
   ],
   "source": [
    "#Övning 1 \n",
    "\n",
    "number = int(input(f\"Please enter a number: \"))\n",
    "\n",
    "if number < 0:\n",
    "    print(f\"Your number is negative\")\n",
    "elif number > 0:\n",
    "    print(f\"Your number is positive\")\n",
    "else:\n",
    "    print(f\"Your number is zero\")"
   ]
  },
  {
   "cell_type": "code",
   "execution_count": 19,
   "metadata": {},
   "outputs": [
    {
     "name": "stdout",
     "output_type": "stream",
     "text": [
      "Both numbers are the same!\n"
     ]
    }
   ],
   "source": [
    "#Uppgift 2\n",
    "\n",
    "number1 = int(input(f\"Please enter a number: \"))\n",
    "number2 = int(input(f\"Please enter a number: \"))\n",
    "\n",
    "if number1 == number2:\n",
    "    print(f\"Both numbers are the same!\")\n",
    "\n",
    "elif number1 >= number2:\n",
    "    print(f\"Number {number2} is the smallest one!\")\n",
    "\n",
    "else:\n",
    "    print(f\"Number {number1} is the smallest one!\")\n",
    "\n",
    "\n"
   ]
  },
  {
   "cell_type": "code",
   "execution_count": 35,
   "metadata": {},
   "outputs": [
    {
     "name": "stdout",
     "output_type": "stream",
     "text": [
      "The triangle is invalid\n"
     ]
    }
   ],
   "source": [
    "#Uppgift 3\n",
    "\n",
    "angle1 = int(input(f\"Please enter a value for Angle 1: \"))\n",
    "angle2 = int(input(f\"Please enter a value for Angle 2: \"))\n",
    "angle3 = int(input(f\"Please enter a value for Angle 3: \"))\n",
    "\n",
    "def valid_angles(angle1, angle2, angle3):\n",
    "    if ((angle1 + angle2 + angle3 == 180) and angle1 != 0 and angle2 != 0 and angle3 != 0):\n",
    "        return True\n",
    "    else:\n",
    "        return False\n",
    "\n",
    "if valid_angles(angle1, angle2, angle3):\n",
    "    print(f\"The triangle is valid\")\n",
    "else:\n",
    "    print(f\"The triangle is invalid\")"
   ]
  },
  {
   "cell_type": "code",
   "execution_count": 41,
   "metadata": {},
   "outputs": [
    {
     "name": "stdout",
     "output_type": "stream",
     "text": [
      "The recomendation is that you take 1-2 pills max\n"
     ]
    }
   ],
   "source": [
    "#Uppgift 4\n",
    "\n",
    "patient_age = float(input(f\"Please enter your age: \"))\n",
    "patient_weight = float(input(f\"Please enter your weight (kg): \"))\n",
    "\n",
    "if patient_weight > 40:\n",
    "    print(f\"The recomendation is that you take 1-2 pills max\")\n",
    "elif patient_weight >= 26 and patient_weight <= 40:\n",
    "    print(f\"The recomendation is that you take 1/2 - 1 pills max\")\n",
    "elif patient_weight >= 15 and patient_weight <= 25:\n",
    "    print(f\"The recomendation is that you take 1/2 pills max\")\n",
    "else:\n",
    "    print(f\"You are to young or to small to take this medicine!\")\n",
    "\n"
   ]
  },
  {
   "cell_type": "code",
   "execution_count": 52,
   "metadata": {},
   "outputs": [
    {
     "name": "stdout",
     "output_type": "stream",
     "text": [
      "This number is even\n",
      "This number is not divisble with 5\n"
     ]
    }
   ],
   "source": [
    "#Uppgift 5\n",
    "\n",
    "number = int(input(f\"Please enter a number: \"))\n",
    "\n",
    "if number % 2 == 0:\n",
    "        print(f\"This number is even\")\n",
    "elif number:\n",
    "        print(f\"This number is odd\")\n",
    "if number % 5 == 0:\n",
    "    print(f\"This number is divisble by 5, good job\")\n",
    "elif number:\n",
    "    print(f\"This number is not divisble with 5\")\n",
    "\n"
   ]
  },
  {
   "cell_type": "code",
   "execution_count": 104,
   "metadata": {},
   "outputs": [
    {
     "name": "stdout",
     "output_type": "stream",
     "text": [
      "The luggage is to big or heavy and not allowed to board! Please check our rules.\n"
     ]
    }
   ],
   "source": [
    "#Övning 6\n",
    "\n",
    "lenght = int(input(f\"Enter the luggage lenght: \"))\n",
    "width = int(input(f\"Enter the luggage width: \"))\n",
    "height = int(input(f\"Enter the luggage height: \"))\n",
    "weight = int(input(f\"Enter the luggage weight: \"))\n",
    " \n",
    "def luggage(lenght, width, height, weight):\n",
    "    if ((lenght <= 55) and (width <= 40) and (height <= 23) and (weight <= 8)):\n",
    "        return True\n",
    "    else:\n",
    "        return False\n",
    " \n",
    "if luggage(lenght, width, height, weight):\n",
    "    print(f\"The luggage is allowed and welcome on board!!\")\n",
    "else:\n",
    "    print(f\"The luggage is to big or heavy and not allowed to board! Please check our rules.\")\n"
   ]
  }
 ],
 "metadata": {
  "kernelspec": {
   "display_name": "Python 3",
   "language": "python",
   "name": "python3"
  },
  "language_info": {
   "codemirror_mode": {
    "name": "ipython",
    "version": 3
   },
   "file_extension": ".py",
   "mimetype": "text/x-python",
   "name": "python",
   "nbconvert_exporter": "python",
   "pygments_lexer": "ipython3",
   "version": "3.12.3"
  }
 },
 "nbformat": 4,
 "nbformat_minor": 2
}
