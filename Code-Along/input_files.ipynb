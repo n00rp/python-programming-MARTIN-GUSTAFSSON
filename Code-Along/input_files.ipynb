{
 "cells": [
  {
   "cell_type": "code",
   "execution_count": 13,
   "metadata": {},
   "outputs": [
    {
     "name": "stdout",
     "output_type": "stream",
     "text": [
      "Testar att skapa en ny fil\n"
     ]
    }
   ],
   "source": [
    "#Import files \n",
    "#with är en medtod som kallas för begin (man reserverar den i filsystemet) Den stänger filen sen på automatik efter man kört den\n",
    "path = \"textfil.txt\"\n",
    "\n",
    "with open(path, 'r') as file:\n",
    "    print(file.read())\n",
    "    \n"
   ]
  }
 ],
 "metadata": {
  "kernelspec": {
   "display_name": "Python 3",
   "language": "python",
   "name": "python3"
  },
  "language_info": {
   "codemirror_mode": {
    "name": "ipython",
    "version": 3
   },
   "file_extension": ".py",
   "mimetype": "text/x-python",
   "name": "python",
   "nbconvert_exporter": "python",
   "pygments_lexer": "ipython3",
   "version": "3.12.6"
  }
 },
 "nbformat": 4,
 "nbformat_minor": 2
}
