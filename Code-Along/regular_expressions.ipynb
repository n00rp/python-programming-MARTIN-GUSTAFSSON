{
 "cells": [
  {
   "cell_type": "code",
   "execution_count": 1,
   "metadata": {},
   "outputs": [
    {
     "name": "stdout",
     "output_type": "stream",
     "text": [
      "['katt', 'hatt']\n"
     ]
    }
   ],
   "source": [
    "### Regular expressions\n",
    "# d = siffror \n",
    "#{4} = söker efter antal siffror\n",
    "# \"\\d+-\\d+\" = \"en eller flera\"\n",
    "\n",
    "import re\n",
    "\n",
    "text = \"Det var en gång en katt som tog på sig en hatt.\"\n",
    "match_list = re.findall(r\".att\", text)\n",
    "\n",
    "print(match_list)\n",
    "\n",
    "\n"
   ]
  },
  {
   "cell_type": "code",
   "execution_count": 2,
   "metadata": {},
   "outputs": [
    {
     "name": "stdout",
     "output_type": "stream",
     "text": [
      "YYMMDD-XX: ['19990516-2323', '19581125-1234', '19659824-6754', '19980504-2456']\n"
     ]
    }
   ],
   "source": [
    "person_numbers = \"Ida: 19990516-2323, Berit: 19581125-1234, Ada: 19659824-6754, FEL: 19980504-2456\"\n",
    "match_long = re.findall(r\"\\d{8}-\\d{4}\", person_numbers)\n",
    "\n",
    "print(f\"YYMMDD-XX: {match_long}\")\n",
    "\n"
   ]
  },
  {
   "cell_type": "code",
   "execution_count": 4,
   "metadata": {},
   "outputs": [
    {
     "name": "stdout",
     "output_type": "stream",
     "text": [
      "YYMMDD-XX: ['990516-2323', '581125-1234', '659824-6754', '980504-2456']\n"
     ]
    }
   ],
   "source": [
    "match_short = re.findall(r\"\\d{6}-\\d{4}\", person_numbers)\n",
    "print(f\"YYMMDD-XX: {match_short}\")"
   ]
  },
  {
   "cell_type": "code",
   "execution_count": 5,
   "metadata": {},
   "outputs": [
    {
     "name": "stdout",
     "output_type": "stream",
     "text": [
      "['19990516-2323', '19581125-1234', '19659824-6754', '19980504-2456']\n"
     ]
    }
   ],
   "source": [
    "my_match = re.findall(r\"\\d+-\\d+\", person_numbers)\n",
    "print(my_match)"
   ]
  }
 ],
 "metadata": {
  "kernelspec": {
   "display_name": ".venv",
   "language": "python",
   "name": "python3"
  },
  "language_info": {
   "codemirror_mode": {
    "name": "ipython",
    "version": 3
   },
   "file_extension": ".py",
   "mimetype": "text/x-python",
   "name": "python",
   "nbconvert_exporter": "python",
   "pygments_lexer": "ipython3",
   "version": "3.12.6"
  }
 },
 "nbformat": 4,
 "nbformat_minor": 2
}
